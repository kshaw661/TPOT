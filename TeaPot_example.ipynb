{
 "cells": [
  {
   "cell_type": "code",
   "execution_count": 76,
   "metadata": {},
   "outputs": [],
   "source": [
    "import pandas as pd\n",
    "import numpy as np\n",
    "from sklearn.model_selection import train_test_split\n",
    "from tpot import TPOTClassifier"
   ]
  },
  {
   "cell_type": "code",
   "execution_count": 77,
   "metadata": {},
   "outputs": [
    {
     "data": {
      "text/plain": [
       "(41188, 21)"
      ]
     },
     "execution_count": 77,
     "metadata": {},
     "output_type": "execute_result"
    }
   ],
   "source": [
    "#loading the data\n",
    "df = pd.read_csv('./bank/bank-additional-full.csv',sep=\";\")\n",
    "df.shape"
   ]
  },
  {
   "cell_type": "code",
   "execution_count": 78,
   "metadata": {},
   "outputs": [
    {
     "data": {
      "text/html": [
       "<div>\n",
       "<style scoped>\n",
       "    .dataframe tbody tr th:only-of-type {\n",
       "        vertical-align: middle;\n",
       "    }\n",
       "\n",
       "    .dataframe tbody tr th {\n",
       "        vertical-align: top;\n",
       "    }\n",
       "\n",
       "    .dataframe thead th {\n",
       "        text-align: right;\n",
       "    }\n",
       "</style>\n",
       "<table border=\"1\" class=\"dataframe\">\n",
       "  <thead>\n",
       "    <tr style=\"text-align: right;\">\n",
       "      <th></th>\n",
       "      <th>age</th>\n",
       "      <th>job</th>\n",
       "      <th>marital</th>\n",
       "      <th>education</th>\n",
       "      <th>default</th>\n",
       "      <th>housing</th>\n",
       "      <th>loan</th>\n",
       "      <th>contact</th>\n",
       "      <th>month</th>\n",
       "      <th>day_of_week</th>\n",
       "      <th>...</th>\n",
       "      <th>campaign</th>\n",
       "      <th>pdays</th>\n",
       "      <th>previous</th>\n",
       "      <th>poutcome</th>\n",
       "      <th>emp.var.rate</th>\n",
       "      <th>cons.price.idx</th>\n",
       "      <th>cons.conf.idx</th>\n",
       "      <th>euribor3m</th>\n",
       "      <th>nr.employed</th>\n",
       "      <th>y</th>\n",
       "    </tr>\n",
       "  </thead>\n",
       "  <tbody>\n",
       "    <tr>\n",
       "      <th>0</th>\n",
       "      <td>56</td>\n",
       "      <td>housemaid</td>\n",
       "      <td>married</td>\n",
       "      <td>basic.4y</td>\n",
       "      <td>no</td>\n",
       "      <td>no</td>\n",
       "      <td>no</td>\n",
       "      <td>telephone</td>\n",
       "      <td>may</td>\n",
       "      <td>mon</td>\n",
       "      <td>...</td>\n",
       "      <td>1</td>\n",
       "      <td>999</td>\n",
       "      <td>0</td>\n",
       "      <td>nonexistent</td>\n",
       "      <td>1.1</td>\n",
       "      <td>93.994</td>\n",
       "      <td>-36.4</td>\n",
       "      <td>4.857</td>\n",
       "      <td>5191.0</td>\n",
       "      <td>no</td>\n",
       "    </tr>\n",
       "    <tr>\n",
       "      <th>1</th>\n",
       "      <td>57</td>\n",
       "      <td>services</td>\n",
       "      <td>married</td>\n",
       "      <td>high.school</td>\n",
       "      <td>unknown</td>\n",
       "      <td>no</td>\n",
       "      <td>no</td>\n",
       "      <td>telephone</td>\n",
       "      <td>may</td>\n",
       "      <td>mon</td>\n",
       "      <td>...</td>\n",
       "      <td>1</td>\n",
       "      <td>999</td>\n",
       "      <td>0</td>\n",
       "      <td>nonexistent</td>\n",
       "      <td>1.1</td>\n",
       "      <td>93.994</td>\n",
       "      <td>-36.4</td>\n",
       "      <td>4.857</td>\n",
       "      <td>5191.0</td>\n",
       "      <td>no</td>\n",
       "    </tr>\n",
       "    <tr>\n",
       "      <th>2</th>\n",
       "      <td>37</td>\n",
       "      <td>services</td>\n",
       "      <td>married</td>\n",
       "      <td>high.school</td>\n",
       "      <td>no</td>\n",
       "      <td>yes</td>\n",
       "      <td>no</td>\n",
       "      <td>telephone</td>\n",
       "      <td>may</td>\n",
       "      <td>mon</td>\n",
       "      <td>...</td>\n",
       "      <td>1</td>\n",
       "      <td>999</td>\n",
       "      <td>0</td>\n",
       "      <td>nonexistent</td>\n",
       "      <td>1.1</td>\n",
       "      <td>93.994</td>\n",
       "      <td>-36.4</td>\n",
       "      <td>4.857</td>\n",
       "      <td>5191.0</td>\n",
       "      <td>no</td>\n",
       "    </tr>\n",
       "    <tr>\n",
       "      <th>3</th>\n",
       "      <td>40</td>\n",
       "      <td>admin.</td>\n",
       "      <td>married</td>\n",
       "      <td>basic.6y</td>\n",
       "      <td>no</td>\n",
       "      <td>no</td>\n",
       "      <td>no</td>\n",
       "      <td>telephone</td>\n",
       "      <td>may</td>\n",
       "      <td>mon</td>\n",
       "      <td>...</td>\n",
       "      <td>1</td>\n",
       "      <td>999</td>\n",
       "      <td>0</td>\n",
       "      <td>nonexistent</td>\n",
       "      <td>1.1</td>\n",
       "      <td>93.994</td>\n",
       "      <td>-36.4</td>\n",
       "      <td>4.857</td>\n",
       "      <td>5191.0</td>\n",
       "      <td>no</td>\n",
       "    </tr>\n",
       "    <tr>\n",
       "      <th>4</th>\n",
       "      <td>56</td>\n",
       "      <td>services</td>\n",
       "      <td>married</td>\n",
       "      <td>high.school</td>\n",
       "      <td>no</td>\n",
       "      <td>no</td>\n",
       "      <td>yes</td>\n",
       "      <td>telephone</td>\n",
       "      <td>may</td>\n",
       "      <td>mon</td>\n",
       "      <td>...</td>\n",
       "      <td>1</td>\n",
       "      <td>999</td>\n",
       "      <td>0</td>\n",
       "      <td>nonexistent</td>\n",
       "      <td>1.1</td>\n",
       "      <td>93.994</td>\n",
       "      <td>-36.4</td>\n",
       "      <td>4.857</td>\n",
       "      <td>5191.0</td>\n",
       "      <td>no</td>\n",
       "    </tr>\n",
       "  </tbody>\n",
       "</table>\n",
       "<p>5 rows × 21 columns</p>\n",
       "</div>"
      ],
      "text/plain": [
       "   age        job  marital    education  default housing loan    contact  \\\n",
       "0   56  housemaid  married     basic.4y       no      no   no  telephone   \n",
       "1   57   services  married  high.school  unknown      no   no  telephone   \n",
       "2   37   services  married  high.school       no     yes   no  telephone   \n",
       "3   40     admin.  married     basic.6y       no      no   no  telephone   \n",
       "4   56   services  married  high.school       no      no  yes  telephone   \n",
       "\n",
       "  month day_of_week ...  campaign  pdays  previous     poutcome emp.var.rate  \\\n",
       "0   may         mon ...         1    999         0  nonexistent          1.1   \n",
       "1   may         mon ...         1    999         0  nonexistent          1.1   \n",
       "2   may         mon ...         1    999         0  nonexistent          1.1   \n",
       "3   may         mon ...         1    999         0  nonexistent          1.1   \n",
       "4   may         mon ...         1    999         0  nonexistent          1.1   \n",
       "\n",
       "   cons.price.idx  cons.conf.idx  euribor3m  nr.employed   y  \n",
       "0          93.994          -36.4      4.857       5191.0  no  \n",
       "1          93.994          -36.4      4.857       5191.0  no  \n",
       "2          93.994          -36.4      4.857       5191.0  no  \n",
       "3          93.994          -36.4      4.857       5191.0  no  \n",
       "4          93.994          -36.4      4.857       5191.0  no  \n",
       "\n",
       "[5 rows x 21 columns]"
      ]
     },
     "execution_count": 78,
     "metadata": {},
     "output_type": "execute_result"
    }
   ],
   "source": [
    "df.head(5)"
   ]
  },
  {
   "cell_type": "code",
   "execution_count": 79,
   "metadata": {},
   "outputs": [
    {
     "data": {
      "text/plain": [
       "loan     y  \n",
       "no       no     30100\n",
       "         yes     3850\n",
       "unknown  no       883\n",
       "         yes      107\n",
       "yes      no      5565\n",
       "         yes      683\n",
       "Name: y, dtype: int64"
      ]
     },
     "execution_count": 79,
     "metadata": {},
     "output_type": "execute_result"
    }
   ],
   "source": [
    "df.groupby('loan').y.value_counts()"
   ]
  },
  {
   "cell_type": "code",
   "execution_count": 80,
   "metadata": {},
   "outputs": [
    {
     "data": {
      "text/plain": [
       "loan  education            marital   y  \n",
       "no    basic.4y             divorced  no      340\n",
       "                                     yes      68\n",
       "                           married   no     2404\n",
       "                                     yes     255\n",
       "                           single    no      338\n",
       "                                     yes      25\n",
       "                           unknown   no        4\n",
       "                                     yes       1\n",
       "      basic.6y             divorced  no      138\n",
       "                                     yes      12\n",
       "                           married   no     1355\n",
       "                                     yes     121\n",
       "                           single    no      242\n",
       "                                     yes      29\n",
       "                           unknown   no        5\n",
       "      basic.9y             divorced  no      452\n",
       "                                     yes      27\n",
       "                           married   no     3197\n",
       "                                     yes     252\n",
       "                           single    no      972\n",
       "                                     yes     104\n",
       "                           unknown   no        5\n",
       "                                     yes       2\n",
       "      high.school          divorced  no      891\n",
       "                                     yes      82\n",
       "                           married   no     3853\n",
       "                                     yes     401\n",
       "                           single    no     2238\n",
       "                                     yes     376\n",
       "                           unknown   no       10\n",
       "                                            ... \n",
       "yes   high.school          divorced  yes      23\n",
       "                           married   no      720\n",
       "                                     yes      66\n",
       "                           single    no      400\n",
       "                                     yes      61\n",
       "                           unknown   no        3\n",
       "      illiterate           married   no        2\n",
       "                                     yes       1\n",
       "      professional.course  divorced  no       95\n",
       "                                     yes       4\n",
       "                           married   no      443\n",
       "                                     yes      59\n",
       "                           single    no      169\n",
       "                                     yes      22\n",
       "                           unknown   no        1\n",
       "      university.degree    divorced  no      168\n",
       "                                     yes      24\n",
       "                           married   no      878\n",
       "                                     yes     124\n",
       "                           single    no      637\n",
       "                                     yes      95\n",
       "                           unknown   no        4\n",
       "      unknown              divorced  no       20\n",
       "                                     yes       3\n",
       "                           married   no      121\n",
       "                                     yes      23\n",
       "                           single    no       58\n",
       "                                     yes      15\n",
       "                           unknown   no        1\n",
       "                                     yes       1\n",
       "Name: y, Length: 150, dtype: int64"
      ]
     },
     "execution_count": 80,
     "metadata": {},
     "output_type": "execute_result"
    }
   ],
   "source": [
    "df.groupby(['loan','education','marital']).y.value_counts()"
   ]
  },
  {
   "cell_type": "code",
   "execution_count": 81,
   "metadata": {},
   "outputs": [],
   "source": [
    "#The first and most important step in using TPOT on any data set is to rename the target class/response variable to class.\n",
    "df.rename(columns={'y': 'class'}, inplace=True)\n"
   ]
  },
  {
   "cell_type": "code",
   "execution_count": 82,
   "metadata": {},
   "outputs": [
    {
     "data": {
      "text/plain": [
       "age                 int64\n",
       "job                object\n",
       "marital            object\n",
       "education          object\n",
       "default            object\n",
       "housing            object\n",
       "loan               object\n",
       "contact            object\n",
       "month              object\n",
       "day_of_week        object\n",
       "duration            int64\n",
       "campaign            int64\n",
       "pdays               int64\n",
       "previous            int64\n",
       "poutcome           object\n",
       "emp.var.rate      float64\n",
       "cons.price.idx    float64\n",
       "cons.conf.idx     float64\n",
       "euribor3m         float64\n",
       "nr.employed       float64\n",
       "class              object\n",
       "dtype: object"
      ]
     },
     "execution_count": 82,
     "metadata": {},
     "output_type": "execute_result"
    }
   ],
   "source": [
    "df.dtypes"
   ]
  },
  {
   "cell_type": "code",
   "execution_count": 83,
   "metadata": {},
   "outputs": [
    {
     "data": {
      "text/plain": [
       "Index(['age', 'job', 'marital', 'education', 'default', 'housing', 'loan',\n",
       "       'contact', 'month', 'day_of_week', 'duration', 'campaign', 'pdays',\n",
       "       'previous', 'poutcome', 'emp.var.rate', 'cons.price.idx',\n",
       "       'cons.conf.idx', 'euribor3m', 'nr.employed', 'class'],\n",
       "      dtype='object')"
      ]
     },
     "execution_count": 83,
     "metadata": {},
     "output_type": "execute_result"
    }
   ],
   "source": [
    "df.columns"
   ]
  },
  {
   "cell_type": "code",
   "execution_count": 84,
   "metadata": {},
   "outputs": [
    {
     "data": {
      "text/plain": [
       "0        mon\n",
       "1        mon\n",
       "2        mon\n",
       "3        mon\n",
       "4        mon\n",
       "5        mon\n",
       "6        mon\n",
       "7        mon\n",
       "8        mon\n",
       "9        mon\n",
       "10       mon\n",
       "11       mon\n",
       "12       mon\n",
       "13       mon\n",
       "14       mon\n",
       "15       mon\n",
       "16       mon\n",
       "17       mon\n",
       "18       mon\n",
       "19       mon\n",
       "20       mon\n",
       "21       mon\n",
       "22       mon\n",
       "23       mon\n",
       "24       mon\n",
       "25       mon\n",
       "26       mon\n",
       "27       mon\n",
       "28       mon\n",
       "29       mon\n",
       "        ... \n",
       "41158    tue\n",
       "41159    tue\n",
       "41160    tue\n",
       "41161    tue\n",
       "41162    tue\n",
       "41163    tue\n",
       "41164    tue\n",
       "41165    wed\n",
       "41166    wed\n",
       "41167    wed\n",
       "41168    wed\n",
       "41169    wed\n",
       "41170    wed\n",
       "41171    thu\n",
       "41172    thu\n",
       "41173    thu\n",
       "41174    thu\n",
       "41175    thu\n",
       "41176    thu\n",
       "41177    thu\n",
       "41178    thu\n",
       "41179    fri\n",
       "41180    fri\n",
       "41181    fri\n",
       "41182    fri\n",
       "41183    fri\n",
       "41184    fri\n",
       "41185    fri\n",
       "41186    fri\n",
       "41187    fri\n",
       "Name: day_of_week, Length: 41188, dtype: object"
      ]
     },
     "execution_count": 84,
     "metadata": {},
     "output_type": "execute_result"
    }
   ],
   "source": [
    "df['day_of_week']"
   ]
  },
  {
   "cell_type": "code",
   "execution_count": 85,
   "metadata": {},
   "outputs": [
    {
     "data": {
      "text/plain": [
       "pandas.core.indexes.base.Index"
      ]
     },
     "execution_count": 85,
     "metadata": {},
     "output_type": "execute_result"
    }
   ],
   "source": [
    "type(df.columns)"
   ]
  },
  {
   "cell_type": "code",
   "execution_count": 86,
   "metadata": {},
   "outputs": [
    {
     "name": "stdout",
     "output_type": "stream",
     "text": [
      "Category has job ******************** 12 \n",
      "Category has unique value job ******************** ['housemaid' 'services' 'admin.' 'blue-collar' 'technician' 'retired'\n",
      " 'management' 'unemployed' 'self-employed' 'unknown' 'entrepreneur'\n",
      " 'student'] \n",
      "Category has marital ******************** 4 \n",
      "Category has unique value marital ******************** ['married' 'single' 'divorced' 'unknown'] \n",
      "Category has education ******************** 8 \n",
      "Category has unique value education ******************** ['basic.4y' 'high.school' 'basic.6y' 'basic.9y' 'professional.course'\n",
      " 'unknown' 'university.degree' 'illiterate'] \n",
      "Category has default ******************** 3 \n",
      "Category has unique value default ******************** ['no' 'unknown' 'yes'] \n",
      "Category has housing ******************** 3 \n",
      "Category has unique value housing ******************** ['no' 'yes' 'unknown'] \n",
      "Category has loan ******************** 3 \n",
      "Category has unique value loan ******************** ['no' 'yes' 'unknown'] \n",
      "Category has contact ******************** 2 \n",
      "Category has unique value contact ******************** ['telephone' 'cellular'] \n",
      "Category has month ******************** 10 \n",
      "Category has unique value month ******************** ['may' 'jun' 'jul' 'aug' 'oct' 'nov' 'dec' 'mar' 'apr' 'sep'] \n",
      "Category has day_of_week ******************** 5 \n",
      "Category has unique value day_of_week ******************** ['mon' 'tue' 'wed' 'thu' 'fri'] \n",
      "Category has poutcome ******************** 3 \n",
      "Category has unique value poutcome ******************** ['nonexistent' 'failure' 'success'] \n",
      "Category has class ******************** 2 \n",
      "Category has unique value class ******************** ['no' 'yes'] \n"
     ]
    }
   ],
   "source": [
    "for cat in df.columns:\n",
    "    if( df[cat].dtypes == 'object'):\n",
    "        print(\"Category has\",cat,\"********************\",df[cat].unique().size,\"\\r\") ;\n",
    "        print(\"Category has unique value\",cat,\"********************\",df[cat].unique(),\"\\r\")"
   ]
  },
  {
   "cell_type": "code",
   "execution_count": 87,
   "metadata": {},
   "outputs": [
    {
     "data": {
      "text/plain": [
       "dtype('int64')"
      ]
     },
     "execution_count": 87,
     "metadata": {},
     "output_type": "execute_result"
    }
   ],
   "source": [
    "df['age'].dtypes"
   ]
  },
  {
   "cell_type": "code",
   "execution_count": 88,
   "metadata": {},
   "outputs": [],
   "source": [
    "df['marital'] = df['marital'].map({'married':0,'single':1,'divorced':2})\n",
    "df['default'] = df['default'].map({'no':0,'yes':1,'unknown':2})\n",
    "df['housing'] = df['housing'].map({'no':0,'yes':1,'unknown':2})\n",
    "df['loan'] = df['loan'].map({'no':0,'yes':1,'unknown':2})\n",
    "df['contact'] = df['contact'].map({'telephone':0,'cellular':1})\n",
    "df['poutcome'] = df['poutcome'].map({'nonexistent':0,'failure':1,'success':2})\n",
    "df['class'] = df['class'].map({'no':0,'yes':1})"
   ]
  },
  {
   "cell_type": "code",
   "execution_count": 89,
   "metadata": {},
   "outputs": [
    {
     "data": {
      "text/plain": [
       "age               False\n",
       "job               False\n",
       "marital            True\n",
       "education         False\n",
       "default           False\n",
       "housing           False\n",
       "loan              False\n",
       "contact           False\n",
       "month             False\n",
       "day_of_week       False\n",
       "duration          False\n",
       "campaign          False\n",
       "pdays             False\n",
       "previous          False\n",
       "poutcome          False\n",
       "emp.var.rate      False\n",
       "cons.price.idx    False\n",
       "cons.conf.idx     False\n",
       "euribor3m         False\n",
       "nr.employed       False\n",
       "class             False\n",
       "dtype: bool"
      ]
     },
     "execution_count": 89,
     "metadata": {},
     "output_type": "execute_result"
    }
   ],
   "source": [
    "pd.isnull(df).any()"
   ]
  },
  {
   "cell_type": "code",
   "execution_count": 90,
   "metadata": {},
   "outputs": [
    {
     "data": {
      "text/plain": [
       "age               False\n",
       "job               False\n",
       "marital           False\n",
       "education         False\n",
       "default           False\n",
       "housing           False\n",
       "loan              False\n",
       "contact           False\n",
       "month             False\n",
       "day_of_week       False\n",
       "duration          False\n",
       "campaign          False\n",
       "pdays             False\n",
       "previous          False\n",
       "poutcome          False\n",
       "emp.var.rate      False\n",
       "cons.price.idx    False\n",
       "cons.conf.idx     False\n",
       "euribor3m         False\n",
       "nr.employed       False\n",
       "class             False\n",
       "dtype: bool"
      ]
     },
     "execution_count": 90,
     "metadata": {},
     "output_type": "execute_result"
    }
   ],
   "source": [
    "df = df.fillna(-999)\n",
    "pd.isnull(df).any()"
   ]
  },
  {
   "cell_type": "code",
   "execution_count": 91,
   "metadata": {},
   "outputs": [
    {
     "data": {
      "text/plain": [
       "array([[0, 0, 0, ..., 0, 0, 0],\n",
       "       [0, 0, 0, ..., 0, 0, 0],\n",
       "       [0, 0, 0, ..., 0, 0, 0],\n",
       "       ...,\n",
       "       [0, 0, 0, ..., 0, 0, 0],\n",
       "       [0, 0, 0, ..., 1, 0, 0],\n",
       "       [0, 0, 0, ..., 0, 0, 0]])"
      ]
     },
     "execution_count": 91,
     "metadata": {},
     "output_type": "execute_result"
    }
   ],
   "source": [
    "from sklearn.preprocessing import MultiLabelBinarizer\n",
    "mlb = MultiLabelBinarizer()\n",
    "\n",
    "job_Trans = mlb.fit_transform([{str(val)} for val in df['job'].values])\n",
    "education_Trans = mlb.fit_transform([{str(val)} for val in df['education'].values])\n",
    "month_Trans = mlb.fit_transform([{str(val)} for val in df['month'].values])\n",
    "day_of_week_Trans = mlb.fit_transform([{str(val)} for val in df['day_of_week'].values])\n",
    "\n",
    "job_Trans"
   ]
  },
  {
   "cell_type": "code",
   "execution_count": 92,
   "metadata": {},
   "outputs": [
    {
     "data": {
      "text/plain": [
       "array([[1, 0, 0, ..., 0, 0, 0],\n",
       "       [0, 0, 0, ..., 0, 0, 0],\n",
       "       [0, 0, 0, ..., 0, 0, 0],\n",
       "       ...,\n",
       "       [0, 0, 0, ..., 0, 1, 0],\n",
       "       [0, 0, 0, ..., 1, 0, 0],\n",
       "       [0, 0, 0, ..., 1, 0, 0]])"
      ]
     },
     "execution_count": 92,
     "metadata": {},
     "output_type": "execute_result"
    }
   ],
   "source": [
    "education_Trans"
   ]
  },
  {
   "cell_type": "code",
   "execution_count": 93,
   "metadata": {},
   "outputs": [
    {
     "data": {
      "text/plain": [
       "array([[0, 0, 0, ..., 0, 0, 0],\n",
       "       [0, 0, 0, ..., 0, 0, 0],\n",
       "       [0, 0, 0, ..., 0, 0, 0],\n",
       "       ...,\n",
       "       [0, 0, 0, ..., 1, 0, 0],\n",
       "       [0, 0, 0, ..., 1, 0, 0],\n",
       "       [0, 0, 0, ..., 1, 0, 0]])"
      ]
     },
     "execution_count": 93,
     "metadata": {},
     "output_type": "execute_result"
    }
   ],
   "source": [
    "month_Trans"
   ]
  },
  {
   "cell_type": "code",
   "execution_count": 94,
   "metadata": {},
   "outputs": [],
   "source": [
    "df_new = df.drop(['marital','default','housing','loan','contact','poutcome','class','job','education','month','day_of_week'], axis=1)"
   ]
  },
  {
   "cell_type": "code",
   "execution_count": 95,
   "metadata": {},
   "outputs": [
    {
     "data": {
      "text/plain": [
       "0        mon\n",
       "1        mon\n",
       "2        mon\n",
       "3        mon\n",
       "4        mon\n",
       "5        mon\n",
       "6        mon\n",
       "7        mon\n",
       "8        mon\n",
       "9        mon\n",
       "10       mon\n",
       "11       mon\n",
       "12       mon\n",
       "13       mon\n",
       "14       mon\n",
       "15       mon\n",
       "16       mon\n",
       "17       mon\n",
       "18       mon\n",
       "19       mon\n",
       "20       mon\n",
       "21       mon\n",
       "22       mon\n",
       "23       mon\n",
       "24       mon\n",
       "25       mon\n",
       "26       mon\n",
       "27       mon\n",
       "28       mon\n",
       "29       mon\n",
       "        ... \n",
       "41158    tue\n",
       "41159    tue\n",
       "41160    tue\n",
       "41161    tue\n",
       "41162    tue\n",
       "41163    tue\n",
       "41164    tue\n",
       "41165    wed\n",
       "41166    wed\n",
       "41167    wed\n",
       "41168    wed\n",
       "41169    wed\n",
       "41170    wed\n",
       "41171    thu\n",
       "41172    thu\n",
       "41173    thu\n",
       "41174    thu\n",
       "41175    thu\n",
       "41176    thu\n",
       "41177    thu\n",
       "41178    thu\n",
       "41179    fri\n",
       "41180    fri\n",
       "41181    fri\n",
       "41182    fri\n",
       "41183    fri\n",
       "41184    fri\n",
       "41185    fri\n",
       "41186    fri\n",
       "41187    fri\n",
       "Name: day_of_week, Length: 41188, dtype: object"
      ]
     },
     "execution_count": 95,
     "metadata": {},
     "output_type": "execute_result"
    }
   ],
   "source": [
    "assert (len(df['day_of_week'].unique()) == len(mlb.classes_)), \"Not Equal\"\n",
    "df['day_of_week']"
   ]
  },
  {
   "cell_type": "code",
   "execution_count": 96,
   "metadata": {},
   "outputs": [
    {
     "data": {
      "text/plain": [
       "(array(['mon', 'tue', 'wed', 'thu', 'fri'], dtype=object),\n",
       " array(['fri', 'mon', 'thu', 'tue', 'wed'], dtype=object))"
      ]
     },
     "execution_count": 96,
     "metadata": {},
     "output_type": "execute_result"
    }
   ],
   "source": [
    "df['day_of_week'].unique(),mlb.classes_\n"
   ]
  },
  {
   "cell_type": "code",
   "execution_count": 97,
   "metadata": {},
   "outputs": [],
   "source": [
    "df_new = np.hstack((df_new.values, job_Trans, education_Trans, month_Trans, day_of_week_Trans))"
   ]
  },
  {
   "cell_type": "code",
   "execution_count": 98,
   "metadata": {},
   "outputs": [
    {
     "data": {
      "text/plain": [
       "False"
      ]
     },
     "execution_count": 98,
     "metadata": {},
     "output_type": "execute_result"
    }
   ],
   "source": [
    "np.isnan(df_new).any()\n"
   ]
  },
  {
   "cell_type": "code",
   "execution_count": 99,
   "metadata": {},
   "outputs": [
    {
     "data": {
      "text/plain": [
       "45"
      ]
     },
     "execution_count": 99,
     "metadata": {},
     "output_type": "execute_result"
    }
   ],
   "source": [
    "df_new[0].size\n"
   ]
  },
  {
   "cell_type": "code",
   "execution_count": 100,
   "metadata": {},
   "outputs": [],
   "source": [
    "df_class = df['class'].values\n"
   ]
  },
  {
   "cell_type": "code",
   "execution_count": 101,
   "metadata": {},
   "outputs": [
    {
     "data": {
      "text/plain": [
       "(30891, 10297)"
      ]
     },
     "execution_count": 101,
     "metadata": {},
     "output_type": "execute_result"
    }
   ],
   "source": [
    "training_indices, validation_indices = training_indices, testing_indices = train_test_split(df.index, stratify = df_class, train_size=0.75, test_size=0.25)\n",
    "training_indices.size, validation_indices.size"
   ]
  },
  {
   "cell_type": "code",
   "execution_count": 102,
   "metadata": {},
   "outputs": [
    {
     "data": {
      "application/vnd.jupyter.widget-view+json": {
       "model_id": "7d28911234f1465da9d5244b560708f9",
       "version_major": 2,
       "version_minor": 0
      },
      "text/html": [
       "<p>Failed to display Jupyter Widget of type <code>HBox</code>.</p>\n",
       "<p>\n",
       "  If you're reading this message in the Jupyter Notebook or JupyterLab Notebook, it may mean\n",
       "  that the widgets JavaScript is still loading. If this message persists, it\n",
       "  likely means that the widgets JavaScript library is either not installed or\n",
       "  not enabled. See the <a href=\"https://ipywidgets.readthedocs.io/en/stable/user_install.html\">Jupyter\n",
       "  Widgets Documentation</a> for setup instructions.\n",
       "</p>\n",
       "<p>\n",
       "  If you're reading this message in another frontend (for example, a static\n",
       "  rendering on GitHub or <a href=\"https://nbviewer.jupyter.org/\">NBViewer</a>),\n",
       "  it may mean that your frontend doesn't currently support widgets.\n",
       "</p>\n"
      ],
      "text/plain": [
       "HBox(children=(IntProgress(value=0, description='Optimization Progress', max=15, style=ProgressStyle(description_width='initial')), HTML(value='')))"
      ]
     },
     "metadata": {},
     "output_type": "display_data"
    },
    {
     "name": "stdout",
     "output_type": "stream",
     "text": [
      "Generation 1 - Current best internal CV score: 0.9130491434165083\n",
      "Generation 2 - Current best internal CV score: 0.91327571205659\n",
      "Generation 3 - Current best internal CV score: 0.91327571205659\n",
      "\n",
      "2.0440169166666666 minutes have elapsed. TPOT will close down.\n",
      "TPOT closed during evaluation in one generation.\n",
      "WARNING: TPOT may not provide a good pipeline if TPOT is stopped/interrupted in a early generation.\n",
      "\n",
      "\n",
      "TPOT closed prematurely. Will use the current best pipeline.\n",
      "\n",
      "Best pipeline: DecisionTreeClassifier(VarianceThreshold(input_matrix, threshold=0.001), criterion=gini, max_depth=8, min_samples_leaf=16, min_samples_split=13)\n"
     ]
    },
    {
     "data": {
      "text/plain": [
       "TPOTClassifier(config_dict=None, crossover_rate=0.1, cv=5,\n",
       "        disable_update_check=False, early_stop=None, generations=1000000,\n",
       "        max_eval_time_mins=0.04, max_time_mins=2, memory=None,\n",
       "        mutation_rate=0.9, n_jobs=1, offspring_size=None,\n",
       "        periodic_checkpoint_folder=None, population_size=15,\n",
       "        random_state=None, scoring=None, subsample=1.0, template=None,\n",
       "        use_dask=False, verbosity=2, warm_start=False)"
      ]
     },
     "execution_count": 102,
     "metadata": {},
     "output_type": "execute_result"
    }
   ],
   "source": [
    "tpot = TPOTClassifier(verbosity=2, max_time_mins=2, max_eval_time_mins=0.04, population_size=15)\n",
    "tpot.fit(df_new[training_indices], df_class[training_indices])\n"
   ]
  },
  {
   "cell_type": "code",
   "execution_count": 103,
   "metadata": {},
   "outputs": [
    {
     "data": {
      "text/plain": [
       "0.9111391667475964"
      ]
     },
     "execution_count": 103,
     "metadata": {},
     "output_type": "execute_result"
    }
   ],
   "source": [
    "tpot.score(df_new[validation_indices], df.loc[validation_indices, 'class'].values)\n"
   ]
  },
  {
   "cell_type": "code",
   "execution_count": 104,
   "metadata": {},
   "outputs": [],
   "source": [
    "tpot.export('tpot_loan_pipeline.py')"
   ]
  },
  {
   "cell_type": "code",
   "execution_count": null,
   "metadata": {},
   "outputs": [],
   "source": []
  }
 ],
 "metadata": {
  "kernelspec": {
   "display_name": "Python 3",
   "language": "python",
   "name": "python3"
  },
  "language_info": {
   "codemirror_mode": {
    "name": "ipython",
    "version": 3
   },
   "file_extension": ".py",
   "mimetype": "text/x-python",
   "name": "python",
   "nbconvert_exporter": "python",
   "pygments_lexer": "ipython3",
   "version": "3.6.4"
  }
 },
 "nbformat": 4,
 "nbformat_minor": 2
}
